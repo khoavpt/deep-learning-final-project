{
 "cells": [
  {
   "cell_type": "code",
   "execution_count": 4,
   "metadata": {},
   "outputs": [],
   "source": [
    "import sys\n",
    "sys.path.append('../')\n",
    "\n",
    "import optuna\n",
    "import torch\n",
    "import pytorch_lightning as pl\n",
    "from src.model.stsb import RNN\n",
    "from src.data.stsb_custom_dataset import GLUESTSBDataset\n",
    "from src.utils.stsb_loss_logger import LossLogger\n",
    "from src.data.stsb_embedding import GloveEmbeddings\n",
    "\n"
   ]
  },
  {
   "cell_type": "code",
   "execution_count": null,
   "metadata": {},
   "outputs": [],
   "source": [
    "TX = 30\n",
    "embed_model = GloveEmbeddings(path='../data/embeddings/glove6b50d/glove.6B.50d.txt')\n",
    "embed_matrix = embed_model.get_embedding_matrix()\n",
    "train_dataset = GLUESTSBDataset(data_path='../data/sts_b/train.tsv',\n",
    "                            embed_model=embed_model,\n",
    "                            tx=TX)\n",
    "val_dataset = GLUESTSBDataset(data_path='../data/sts_b/train.tsv',\n",
    "                            embed_model=embed_model,\n",
    "                            tx=TX)\n",
    "\n",
    "train_loader = train_dataset.get_data_loader()\n",
    "val_loader = val_dataset.get_data_loader()"
   ]
  },
  {
   "cell_type": "code",
   "execution_count": null,
   "metadata": {},
   "outputs": [],
   "source": [
    "def objective(trial):\n",
    "    # Hyperparameters to be optimized\n",
    "    hidden_size = trial.suggest_int('hidden_size', 32, 256)\n",
    "    lr = trial.suggest_float('lr', 3e-5, 3e-2, log=True)\n",
    "    # optimizer_name = trial.suggest_categorical('optimizer_name', ['adam', 'sgd'])\n",
    "    # tx = trial.suggest_int('tx', 5, 50)\n",
    "\n",
    "    # Load datasets with current `tx` value\n",
    "    # train_dataset = GLUESTSBDataset(data_path='/kaggle/input/glue-sts-b-dataset/train.tsv',\n",
    "    #                                 embed_model=embed_model,\n",
    "    #                                 tx=tx)\n",
    "    # val_dataset = GLUESTSBDataset(data_path='/kaggle/input/glue-sts-b-dataset/dev.tsv',\n",
    "    #                               embed_model=embed_model,\n",
    "    #                               tx=tx)\n",
    "    # train_loader = train_dataset.get_data_loader()\n",
    "    # val_loader = val_dataset.get_data_loader()\n",
    "\n",
    "    # Define the model\n",
    "    model = RNN(input_size=50, hidden_size=hidden_size, num_layers=1, embed_model=embed_model, lr=lr, optimizer_name='adam')\n",
    "\n",
    "    # Trainer configuration\n",
    "    loss_logger = LossLogger()\n",
    "    trainer = pl.Trainer(max_epochs=30, callbacks=[loss_logger], accelerator=\"auto\", devices=\"auto\")\n",
    "\n",
    "    # Training\n",
    "    trainer.fit(model, train_loader, val_loader)\n",
    "\n",
    "    val_pearson_corr = trainer.callback_metrics[\"pearson_corr\"].item()\n",
    "    return val_pearson_corr\n",
    "\n",
    "\n",
    "# Optuna study\n",
    "study = optuna.create_study(direction='maximize')\n",
    "study.optimize(objective, n_trials=20)\n",
    "\n",
    "# Best trial\n",
    "print(\"Best trial:\")\n",
    "trial = study.best_trial\n",
    "\n",
    "print(f\"  Hidden Size: {trial.params['hidden_size']}\")\n",
    "print(f\"  Num Layers: {trial.params['num_layers']}\")\n",
    "print(f\"  Learning Rate: {trial.params['lr']}\")\n",
    "# print(f\"  Optimizer: {trial.params['optimizer_name']}\")\n",
    "# print(f\"  TX: {trial.params['tx']}\")"
   ]
  }
 ],
 "metadata": {
  "kernelspec": {
   "display_name": "Python 3",
   "language": "python",
   "name": "python3"
  },
  "language_info": {
   "codemirror_mode": {
    "name": "ipython",
    "version": 3
   },
   "file_extension": ".py",
   "mimetype": "text/x-python",
   "name": "python",
   "nbconvert_exporter": "python",
   "pygments_lexer": "ipython3",
   "version": "3.10.6"
  }
 },
 "nbformat": 4,
 "nbformat_minor": 2
}
